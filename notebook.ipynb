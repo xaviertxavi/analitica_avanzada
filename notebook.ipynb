{
 "cells": [
  {
   "cell_type": "code",
   "execution_count": null,
   "metadata": {
    "vscode": {
     "languageId": "plaintext"
    }
   },
   "outputs": [],
   "source": [
    "from pyomo.environ import *\n",
    "from pyomo.opt import SolverFactory\n",
    "\n",
    "# Crear el modelo\n",
    "model = ConcreteModel()\n",
    "\n",
    "# Variables\n",
    "model.x = Var(within=NonNegativeReals)\n",
    "model.y = Var(within=Binary)\n",
    "\n",
    "# Función objetivo (no lineal)\n",
    "model.obj = Objective(expr=(model.x - 3)**2 + (model.y - 1)**2, sense=minimize)\n",
    "\n",
    "# Restricciones\n",
    "model.con1 = Constraint(expr=model.x**2 <= 4)          # No lineal\n",
    "model.con2 = Constraint(expr=model.x >= model.y + 1)   # Mixta (continua y binaria)\n",
    "\n",
    "# Resolver con Bonmin\n",
    "solver = SolverFactory('bonmin')\n",
    "results = solver.solve(model, tee=True)\n",
    "\n",
    "# Mostrar resultados\n",
    "print(\"\\nResultado:\")\n",
    "print(\"x =\", value(model.x))\n",
    "print(\"y =\", value(model.y))\n"
   ]
  },
  {
   "cell_type": "code",
   "execution_count": null,
   "metadata": {
    "vscode": {
     "languageId": "plaintext"
    }
   },
   "outputs": [],
   "source": []
  }
 ],
 "metadata": {
  "language_info": {
   "name": "python"
  }
 },
 "nbformat": 4,
 "nbformat_minor": 2
}
