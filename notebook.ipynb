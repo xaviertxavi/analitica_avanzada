{
 "cells": [
  {
   "cell_type": "code",
   "execution_count": null,
   "metadata": {
    "vscode": {
     "languageId": "plaintext"
    }
   },
   "outputs": [],
   "source": [
    "from pyomo.environ import *\n",
    "from pyomo.opt import SolverFactory\n",
    "\n",
    "# Creamos el modelo\n",
    "model = ConcreteModel()\n",
    "\n",
    "# Variables\n",
    "model.x = Var(within=NonNegativeReals)\n",
    "model.y = Var(within=NonNegativeIntegers)\n",
    "\n",
    "# Función objetivo\n",
    "model.obj = Objective(expr=(model.x - 1)**2 + (model.y - 2)**2, sense=minimize)\n",
    "\n",
    "# Restricción no lineal\n",
    "model.constraint1 = Constraint(expr=model.x**2 + model.y <= 5)\n",
    "\n",
    "# Verificamos el solver\n",
    "solver = SolverFactory('bonmin')\n",
    "if not solver.available():\n",
    "    raise RuntimeError(\"El solver BONMIN no está disponible en este entorno.\")\n",
    "\n",
    "# Resolvemos el modelo\n",
    "results = solver.solve(model, tee=True)\n",
    "\n",
    "# Mostramos resultados\n",
    "model.pprint()\n",
    "print(\"x =\", value(model.x))\n",
    "print(\"y =\", value(model.y))\n"
   ]
  },
  {
   "cell_type": "code",
   "execution_count": null,
   "metadata": {
    "vscode": {
     "languageId": "plaintext"
    }
   },
   "outputs": [],
   "source": []
  }
 ],
 "metadata": {
  "language_info": {
   "name": "python"
  }
 },
 "nbformat": 4,
 "nbformat_minor": 2
}
