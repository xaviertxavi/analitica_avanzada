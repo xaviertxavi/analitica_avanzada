{
 "cells": [
  {
   "cell_type": "code",
   "execution_count": null,
   "metadata": {
    "vscode": {
     "languageId": "plaintext"
    }
   },
   "outputs": [],
   "source": [
    "from pyomo.environ import *\n",
    "from pyomo.opt import SolverFactory\n",
    "\n",
    "model = ConcreteModel()\n",
    "model.x = Var(within=NonNegativeReals)\n",
    "model.obj = Objective(expr=(model.x - 3)**2)\n",
    "solver = SolverFactory('ipopt')\n",
    "result = solver.solve(model, tee=True)\n",
    "print(value(model.x))\n"
   ]
  },
  {
   "cell_type": "code",
   "execution_count": null,
   "metadata": {
    "vscode": {
     "languageId": "plaintext"
    }
   },
   "outputs": [],
   "source": []
  }
 ],
 "metadata": {
  "language_info": {
   "name": "python"
  }
 },
 "nbformat": 4,
 "nbformat_minor": 2
}
